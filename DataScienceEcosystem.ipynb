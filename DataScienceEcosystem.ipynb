{
 "cells": [
  {
   "cell_type": "markdown",
   "id": "b8335e79-d968-488f-bd90-f47d38317ce0",
   "metadata": {
    "tags": []
   },
   "source": [
    "# Data Science Tools and Ecosystem"
   ]
  },
  {
   "cell_type": "markdown",
   "id": "bb59f09d-0676-48a9-8527-c1194d0284c2",
   "metadata": {},
   "source": [
    "In this notebook, Data Science Tools and Ecosystems are summarized."
   ]
  },
  {
   "cell_type": "markdown",
   "id": "15a720ac-0830-4ca1-ac52-231f63229074",
   "metadata": {},
   "source": [
    "__Objectives:__\n",
    "- List popular languages for Data Science,\n",
    "- List some popular Environments for Data Science,\n",
    "- List the tools used for Data Science,\n",
    "- Getting Familiar with Git and Rstudio"
   ]
  },
  {
   "cell_type": "markdown",
   "id": "81c9e72f-53c7-4d32-a2aa-fe51735e3ef6",
   "metadata": {},
   "source": [
    "Some of the commonly used Data Science Languages are:\n",
    "   1. Python Language\n",
    "   2. R Language\n",
    "   3. Julia\n",
    "   4. Java"
   ]
  },
  {
   "cell_type": "markdown",
   "id": "a57866b5-8102-4407-93a8-f83f8bf3dfb2",
   "metadata": {
    "tags": []
   },
   "source": [
    "Some of the commonly used libraries used by Data Scientists are:\n",
    "   1. Pandas\n",
    "   2. NumPy\n",
    "   3. Matplotlib\n",
    "   4. GGPlot"
   ]
  },
  {
   "cell_type": "markdown",
   "id": "3547be35-e651-4171-8c39-9a3022af55f7",
   "metadata": {},
   "source": [
    " |Data Science Environments|\n",
    " ---------------------------\n",
    " |Watson Studio|,\n",
    " |R Studio|,\n",
    " |SpyderLab|"
   ]
  },
  {
   "cell_type": "markdown",
   "id": "cfdeb027-f0d9-489f-aa9e-afe0e8a58986",
   "metadata": {},
   "source": [
    "### Below are a few examples of evaluating Arithmetic Expressions in Python:"
   ]
  },
  {
   "cell_type": "code",
   "execution_count": 2,
   "id": "a13f9c55-8f78-46aa-bb2c-21182c89476d",
   "metadata": {
    "tags": []
   },
   "outputs": [
    {
     "data": {
      "text/plain": [
       "17"
      ]
     },
     "execution_count": 2,
     "metadata": {},
     "output_type": "execute_result"
    }
   ],
   "source": [
    "# This is a simple arithmetic expression to multiply then add integers.\n",
    "(3*4)+5"
   ]
  },
  {
   "cell_type": "code",
   "execution_count": 3,
   "id": "5ba40232-082d-4748-b329-fedcbe608e5f",
   "metadata": {
    "tags": []
   },
   "outputs": [
    {
     "data": {
      "text/plain": [
       "3.3333333333333335"
      ]
     },
     "execution_count": 3,
     "metadata": {},
     "output_type": "execute_result"
    }
   ],
   "source": [
    "# This expression will convert 200 minutes into hours by dividing by 60.\n",
    "200/60\n"
   ]
  },
  {
   "cell_type": "markdown",
   "id": "5558df64-bbf7-4a8d-8156-2ba5c9e9c5cb",
   "metadata": {},
   "source": [
    "## Author:\n",
    "        M. Asfand Raza"
   ]
  },
  {
   "cell_type": "code",
   "execution_count": null,
   "id": "953afa9d-4851-4a2f-af9f-36a3e621832d",
   "metadata": {},
   "outputs": [],
   "source": []
  }
 ],
 "metadata": {
  "kernelspec": {
   "display_name": "Python 3 (ipykernel)",
   "language": "python",
   "name": "python3"
  },
  "language_info": {
   "codemirror_mode": {
    "name": "ipython",
    "version": 3
   },
   "file_extension": ".py",
   "mimetype": "text/x-python",
   "name": "python",
   "nbconvert_exporter": "python",
   "pygments_lexer": "ipython3",
   "version": "3.11.5"
  }
 },
 "nbformat": 4,
 "nbformat_minor": 5
}
